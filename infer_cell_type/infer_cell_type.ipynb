{
 "cells": [
  {
   "cell_type": "code",
   "execution_count": null,
   "metadata": {},
   "outputs": [],
   "source": [
    "# Make a pickle of the ts dataset UMAP by loading entire dataset, performing umap and constructing a sklearn umap() object\n",
    "# Then pickle this object and while you're at it store a record of the ts_labels with barcodes\n",
    "# Don't think its a bad idea to just store this in a sqlite db as well now, although the pickle will just be\n",
    "# stored on the file system\n",
    "\n",
    "ts_umap = umap.UMAP()\n",
    "ts_umap.embeddings_ = # insert code to copy the tabula sapiens embeddings into here\n",
    "pickle.dump(ts_umap, open('ts_umap.pickle', 'wb'))"
   ]
  },
  {
   "cell_type": "code",
   "execution_count": null,
   "metadata": {},
   "outputs": [],
   "source": [
    "import numpy as np\n",
    "from sklearn.model_selection import train_test_split\n",
    "from sklearn.preprocessing import StandardScaler\n",
    "import pandas as pd\n",
    "import umap\n",
    "\n",
    "import pickle\n",
    "\n",
    "X_test = # this is inputted by a user requesting it, can be just one cell or many cells\n",
    "y_train = # labels may or may not need to be loaded separately\n",
    "# Going to try loading via io a pickle of the umap object for ts dataset,\n",
    "# To make this faster we might want to have a program that already\n",
    "# has this loaded\n",
    "file = open('ts_umap.pickle', 'rb')\n",
    "ts_umap = pickle.load(file)\n",
    "\n",
    "# creates a new embedding based on the ts embeddings\n",
    "new_embedding = ts_umap.transform(X_test)\n",
    "\n",
    "# now we need to use knn, SVC or some other unsupervised classifier to check closeness of points to original ts_umap embedding\n",
    "svc = SVC().fit(new_embedding, ts_umap)\n",
    "knn = KNeighborsClassifier().fit(new_embedding, ts_umap)\n",
    "\n",
    "# Regardless of which one we choose we need to map the label numbers to the true labels from ts_umap, then map those to the\n",
    "# cell names\n"
   ]
  }
 ],
 "metadata": {
  "language_info": {
   "name": "python"
  }
 },
 "nbformat": 4,
 "nbformat_minor": 2
}

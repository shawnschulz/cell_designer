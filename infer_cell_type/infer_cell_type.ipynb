{
 "cells": [
  {
   "cell_type": "code",
   "execution_count": 1,
   "metadata": {},
   "outputs": [
    {
     "name": "stderr",
     "output_type": "stream",
     "text": [
      "/home/shawn/miniconda3/envs/msse-python/lib/python3.11/site-packages/tqdm/auto.py:21: TqdmWarning: IProgress not found. Please update jupyter and ipywidgets. See https://ipywidgets.readthedocs.io/en/stable/user_install.html\n",
      "  from .autonotebook import tqdm as notebook_tqdm\n"
     ]
    }
   ],
   "source": [
    "import scanpy as sc\n",
    "import numpy as np\n",
    "import pickle\n",
    "import umap\n",
    "import numpy as np\n",
    "from sklearn.datasets import load_digits\n",
    "from sklearn.model_selection import train_test_split\n",
    "from sklearn.preprocessing import StandardScaler\n",
    "import matplotlib.pyplot as plt\n",
    "import pandas as pd\n",
    "%matplotlib inline"
   ]
  },
  {
   "cell_type": "code",
   "execution_count": 2,
   "metadata": {},
   "outputs": [],
   "source": [
    "#load adata\n",
    "#adata = sc.read_h5ad('TS.h5ad')\n",
    "#pickle.dump(adata.X, open('TS_X.pickle', 'wb'))\n",
    "#pickle.dump(adata.obs['free_annotation'], open('cell_labels.pickle', 'wb'))"
   ]
  },
  {
   "cell_type": "code",
   "execution_count": 3,
   "metadata": {},
   "outputs": [],
   "source": [
    "f = open('TS_X.pickle', 'rb')\n",
    "matrix = pickle.load(f)"
   ]
  },
  {
   "cell_type": "code",
   "execution_count": 4,
   "metadata": {},
   "outputs": [],
   "source": [
    "f.close()"
   ]
  },
  {
   "cell_type": "code",
   "execution_count": 8,
   "metadata": {},
   "outputs": [],
   "source": [
    "index = np.arange(100000)\n",
    "np.random.shuffle(index)\n",
    "matrix = matrix[index, :]"
   ]
  },
  {
   "cell_type": "code",
   "execution_count": 9,
   "metadata": {},
   "outputs": [
    {
     "data": {
      "text/plain": [
       "474"
      ]
     },
     "execution_count": 9,
     "metadata": {},
     "output_type": "execute_result"
    }
   ],
   "source": [
    "import gc\n",
    "gc.collect()"
   ]
  },
  {
   "cell_type": "code",
   "execution_count": 10,
   "metadata": {},
   "outputs": [],
   "source": [
    "matrix = matrix.todense()"
   ]
  },
  {
   "cell_type": "code",
   "execution_count": 11,
   "metadata": {},
   "outputs": [],
   "source": [
    "matrix = np.asarray(matrix)"
   ]
  },
  {
   "cell_type": "code",
   "execution_count": null,
   "metadata": {
    "scrolled": true
   },
   "outputs": [],
   "source": [
    "import struct\n",
    "with open('matrix.dat', 'wb') as f:\n",
    "    for row in matrix:\n",
    "        # IO is slow but I think this helps by putting like 58,000 things in one syscall\n",
    "        f.write(struct.pack('f'*matrix.shape[1], *list(row)))"
   ]
  },
  {
   "cell_type": "code",
   "execution_count": 13,
   "metadata": {},
   "outputs": [],
   "source": [
    "reducer = umap.UMAP()"
   ]
  },
  {
   "cell_type": "code",
   "execution_count": 14,
   "metadata": {},
   "outputs": [],
   "source": [
    "# Double check that it really is scaled\n",
    "for i in range(matrix.shape[0]):\n",
    "    if np.max(matrix[i,:]) > 10:\n",
    "        print(np.max(matrix[i,:]))"
   ]
  },
  {
   "cell_type": "code",
   "execution_count": null,
   "metadata": {},
   "outputs": [
    {
     "name": "stderr",
     "output_type": "stream",
     "text": [
      "/home/shawn/miniconda3/envs/msse-python/lib/python3.11/site-packages/numba/np/ufunc/parallel.py:371: NumbaWarning: The TBB threading layer requires TBB version 2021 update 6 or later i.e., TBB_INTERFACE_VERSION >= 12060. Found TBB_INTERFACE_VERSION = 12050. The TBB threading layer is disabled.\n",
      "  warnings.warn(problem)\n"
     ]
    }
   ],
   "source": [
    "embedding = reducer.fit_transform(matrix)\n",
    "embedding.shape\n"
   ]
  },
  {
   "cell_type": "code",
   "execution_count": 7,
   "metadata": {},
   "outputs": [
    {
     "data": {
      "text/plain": [
       "array([[ 9.770117 ,  3.8183944],\n",
       "       [ 9.286816 ,  4.2755036],\n",
       "       [17.679771 ,  9.184891 ],\n",
       "       ...,\n",
       "       [ 4.9387674,  8.494324 ],\n",
       "       [ 4.680503 ,  8.350122 ],\n",
       "       [ 4.67996  ,  8.363431 ]], dtype=float32)"
      ]
     },
     "execution_count": 7,
     "metadata": {},
     "output_type": "execute_result"
    }
   ],
   "source": [
    "adata.obsm['X_umap']"
   ]
  },
  {
   "cell_type": "code",
   "execution_count": 10,
   "metadata": {},
   "outputs": [],
   "source": [
    "um = umap.UMAP()\n",
    "um.embeddings_ = adata.obsm['X_umap']"
   ]
  },
  {
   "cell_type": "code",
   "execution_count": 11,
   "metadata": {},
   "outputs": [
    {
     "data": {
      "text/plain": [
       "array([[ 9.770117 ,  3.8183944],\n",
       "       [ 9.286816 ,  4.2755036],\n",
       "       [17.679771 ,  9.184891 ],\n",
       "       ...,\n",
       "       [ 4.9387674,  8.494324 ],\n",
       "       [ 4.680503 ,  8.350122 ],\n",
       "       [ 4.67996  ,  8.363431 ]], dtype=float32)"
      ]
     },
     "execution_count": 11,
     "metadata": {},
     "output_type": "execute_result"
    }
   ],
   "source": [
    "um.embeddings_"
   ]
  },
  {
   "cell_type": "code",
   "execution_count": 21,
   "metadata": {},
   "outputs": [],
   "source": [
    "X_test = np.array(adata.X[0:5].todense())"
   ]
  },
  {
   "cell_type": "code",
   "execution_count": 22,
   "metadata": {},
   "outputs": [
    {
     "ename": "AttributeError",
     "evalue": "'UMAP' object has no attribute '_raw_data'",
     "output_type": "error",
     "traceback": [
      "\u001b[0;31m---------------------------------------------------------------------------\u001b[0m",
      "\u001b[0;31mAttributeError\u001b[0m                            Traceback (most recent call last)",
      "Cell \u001b[0;32mIn[22], line 1\u001b[0m\n\u001b[0;32m----> 1\u001b[0m new_embedding \u001b[38;5;241m=\u001b[39m \u001b[43mum\u001b[49m\u001b[38;5;241;43m.\u001b[39;49m\u001b[43mtransform\u001b[49m\u001b[43m(\u001b[49m\u001b[43mX_test\u001b[49m\u001b[43m)\u001b[49m\n",
      "File \u001b[0;32m~/miniconda3/envs/msse-python/lib/python3.11/site-packages/umap/umap_.py:2802\u001b[0m, in \u001b[0;36mUMAP.transform\u001b[0;34m(self, X)\u001b[0m\n\u001b[1;32m   2788\u001b[0m \u001b[38;5;250m\u001b[39m\u001b[38;5;124;03m\"\"\"Transform X into the existing embedded space and return that\u001b[39;00m\n\u001b[1;32m   2789\u001b[0m \u001b[38;5;124;03mtransformed output.\u001b[39;00m\n\u001b[1;32m   2790\u001b[0m \n\u001b[0;32m   (...)\u001b[0m\n\u001b[1;32m   2799\u001b[0m \u001b[38;5;124;03m    Embedding of the new data in low-dimensional space.\u001b[39;00m\n\u001b[1;32m   2800\u001b[0m \u001b[38;5;124;03m\"\"\"\u001b[39;00m\n\u001b[1;32m   2801\u001b[0m \u001b[38;5;66;03m# If we fit just a single instance then error\u001b[39;00m\n\u001b[0;32m-> 2802\u001b[0m \u001b[38;5;28;01mif\u001b[39;00m \u001b[38;5;28;43mself\u001b[39;49m\u001b[38;5;241;43m.\u001b[39;49m\u001b[43m_raw_data\u001b[49m\u001b[38;5;241m.\u001b[39mshape[\u001b[38;5;241m0\u001b[39m] \u001b[38;5;241m==\u001b[39m \u001b[38;5;241m1\u001b[39m:\n\u001b[1;32m   2803\u001b[0m     \u001b[38;5;28;01mraise\u001b[39;00m \u001b[38;5;167;01mValueError\u001b[39;00m(\n\u001b[1;32m   2804\u001b[0m         \u001b[38;5;124m\"\u001b[39m\u001b[38;5;124mTransform unavailable when model was fit with only a single data sample.\u001b[39m\u001b[38;5;124m\"\u001b[39m\n\u001b[1;32m   2805\u001b[0m     )\n\u001b[1;32m   2806\u001b[0m \u001b[38;5;66;03m# If we just have the original input then short circuit things\u001b[39;00m\n",
      "\u001b[0;31mAttributeError\u001b[0m: 'UMAP' object has no attribute '_raw_data'"
     ]
    }
   ],
   "source": [
    "new_embedding = um.transform(X_test)\n"
   ]
  },
  {
   "cell_type": "code",
   "execution_count": null,
   "metadata": {},
   "outputs": [],
   "source": [
    "\n",
    "# file = open('ts_umap.pickle', 'rb')\n",
    "# ts_umap = pickle.load(file)\n",
    "\n",
    "# creates a new embedding based on the ts embeddings\n",
    "new_embedding = ts_umap.transform(X_test)\n",
    "\n",
    "# now we need to use knn, SVC or some other unsupervised classifier to check closeness of points to original ts_umap embedding\n",
    "svc = SVC().fit(new_embedding, ts_umap)\n",
    "knn = KNeighborsClassifier().fit(new_embedding, ts_umap)\n",
    "\n",
    "# Regardless of which one we choose we need to map the label numbers to the true labels from ts_umap, then map those to the\n",
    "# cell names\n"
   ]
  },
  {
   "cell_type": "code",
   "execution_count": null,
   "metadata": {},
   "outputs": [],
   "source": [
    "# Make a pickle of the ts dataset UMAP by loading entire dataset, performing umap and constructing a sklearn umap() object\n",
    "# Then pickle this object and while you're at it store a record of the ts_labels with barcodes\n",
    "# Don't think its a bad idea to just store this in a sqlite db as well now, although the pickle will just be\n",
    "# stored on the file system\n",
    "\n",
    "ts_umap = umap.UMAP()\n",
    "ts_umap.embeddings_ = # insert code to copy the tabula sapiens embeddings into here\n",
    "pickle.dump(ts_umap, open('ts_umap.pickle', 'wb'))"
   ]
  }
 ],
 "metadata": {
  "kernelspec": {
   "display_name": "Python 3 (ipykernel)",
   "language": "python",
   "name": "python3"
  },
  "language_info": {
   "codemirror_mode": {
    "name": "ipython",
    "version": 3
   },
   "file_extension": ".py",
   "mimetype": "text/x-python",
   "name": "python",
   "nbconvert_exporter": "python",
   "pygments_lexer": "ipython3",
   "version": "3.11.8"
  }
 },
 "nbformat": 4,
 "nbformat_minor": 4
}
